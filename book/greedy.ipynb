'''
1. 거스름돈 문제
거스름돈으로 줘야할 500,100,50,10원짜리 동전의 최소 개수를 구하라
-> 최적의 해를 빠르게 구하기 위해서는 가장 큰 화폐 단위부터 돈을 거슬러주면 된다.

여기서 가장 큰 화폐 단위부터 돈을 거슬러 주는 것이 최적의 해를 보장하는 이유는?
가지고 있는 동전 중에서 큰 단위가 항상 작은 단위의 배수이므로 작은 단위의 동전들을 종합해 다른 해가 나올 수 없기 때문이다.
만약 800원을 거슬러 주어야 하는데, 화폐 단위가 500원, 400원, 100원이라면?
이처럼 문제 풀이를 위한 최소한의 아이디어를 떠올리고 이것이 정당한지 검토할 수 있어야 한다.
'''

n = 1260
count = 0

array = [500, 100, 50, 10]

for coin in array:
	count += n // coin
	n %= coin

print(count) # 개수만 뽑으면 된다.


'''
2. N이 1이 될 때까지 1. N에서 1을 빼거나, N을 K로 나누는 형태의 수행을 거치는 최소한의 횟수 구하기

-> 주어진 N에 대해 최대한 많이 나누기를 수행
N의 값을 줄일 때 2 이상의 수로 나누는 작업이 1을 빼는 작업보다 수를 훨씬 많이 줄일 수 있음(최대한 나누는 작업을 많이 수행할 수 있어야 함)
N  = 25, K = 3일 때는 다음과 같다.
25, 24, 8, 7, 6, 2, 1
'''

# 하나씩 대입하는 풀이
n, k = map(int, input().split())
result = 0

while n != 1:
	  if n % k == 0:
		    n = n//k
	  else :
		    n -= 1
	  result += 1
print(result)


# 책 풀이
n, k = map(int, input().split())
result = 0

while True:
  # n이 k로 나누어 떨어지는 수가 될 때까지 빼기
  target = (n // k) * k
  result += (n - target)
  n = target
  # n이 k보다 작을 때 (더 이상 나눌 수 없을 때) 반복문 탈출
  if n < k :
    break
 # K로 나누기
  result += 1
  n //= k
  print(result)

# 마지막으로 남은 수에 대해 1씩 빼기
result += (n - 1)
print(result)

'''
3. 각 자리가 숫자로만 이뤄진 문자열 S가 주어질 때, 'x' 혹은 '+' 연산자를 넣어 결과적으로 만들 수 있는 가장 큰 수를 구하는 프로그램 작성
+보다 x를 먼저 계산하는 일반적인 계산을 고려하지 않고 모든 연산은 왼쪽에서부터 순서대로 이루어진다고 가정한다.
'''

s = input()

# 첫 번째 문자를 숫자로 변경하여 대입
result = int(data[0])

for i in range(1, len(s)):
  # 두 수 중에서 하나라도 '0' 혹은 '1'인 경우, 곱하기보다는 더하기 수행
  num = int(s[i])
  if num <= 1 or result <= 1:
    result += num
  else:
    result *= num

print(result) 


'''
4. 모험가 N명이 존재할 때 공포도에 맞게 X명씩 모험가 그룹에 참여해야 한다. 공포도가 X인 모험가는 반드시 X명 이상으로 구성한 모험가 그룹에 참여해야 여행을 떠날 수 있다.
N명의 모험가에 대한 정보가 주어졌을 때, 여행을 떠날 수 있는 그룹 수의 최댓값을 구하시오
'''

n = int(input())
group = list(map(int, input().split()))
group.sort()

result = 0
count = 0

for i in group: # [1,2,2,2,3]
  count += 1
  if count >= i:
    print(count)
    result += 1
    count = 0

print(result)
