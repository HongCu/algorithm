'''
머릿속에 있는 알고리즘을 소스코드로 바꾸는 과정
풀이를 떠올리기는 쉽지만 소스코드로 옮기기 어려운 문제

시뮬레이션 및 완전 탐색 문제에서는 2차원 공간에서의 방향 벡터가 자주 활용된다.
'''

'''
ex . [(i, j) for i in range(0, 5) for j in range(0, 5)]

# 동, 북, 서, 남
dx = [0, -1, 0, 1]
dy = [1, 0, -1, 0]

# 현재 위치 2, 2 (중앙)

for i in range(4):
	# 다음 위치
	nx = x + dx[i]
	ny = y + dy[i]
	print(nx, ny)
'''

'''
1. 상하좌우 문제
여행가 A는 N x N 크기의 정사각형 공간 위에 서있다. 이 공간은 1 x 1 크기의 정사각형으로 나누어져 있다. 
가장 왼 쪽의 좌표는 (1, 1)이며, 가장 오른쪽 아래 좌표는 (N, N)이다. 여행가 A는 상, 하, 좌, 우 방향으로 이동할 수 있으며, 시작 좌표는 항상 (1, 1)이다. 
우리 앞에는 여행가 A가 이동할 계획이 적힌 계획서가 놓여있다.
계획서에는 하나의 줄에 띄어쓰기를 기준으로 하여 L, R, U, D 중 하나의 문자가 반복적으로 적혀있다. L:왼쪽이동, R:오른쪽이동, U:위로 이동, D: 아래로 이동

요구사항대로 충실히 구현하면 되는 문제. 일련의 명령에 따라서 개체를 차례대로 이동시킨다는 점에서 시뮬레이션 유형으로도 분류되며 구현이 중요한 대표적인 문제 유형

입력 예시
5
R R R U D D -> 현재 위치를 구하기(불가능하면 가지 않음)
'''

n = int(input())
x, y, = 1, 1
plans = input().split()
 
# L, R, U, D에 따른 이동 방향
dx = [0, 0, -1, 1]
dy = [-1, 1, 0, 0]
move_types = ['L','R','U','D']
 
# 이동 계획을 하나씩 확인하기
for plan in plans:
   # 이동 후 좌표 구하기
   for i in range(len(move_types)):
       if plan == move_types[i]:
           nx = x + dx[i]
           ny = y + dy[i]
   # 공간을 벗어나는 경우 무시
   if nx < 1 or ny < 1 or nx > n or ny > n :
       continue
 
   x, y = nx, ny
 
print(x, y)

'''
2. 시각 문제
정수 N이 입력되면 00시 00분 00초부터 N시 59분 59초까지의 모든 시각 중에서 3이 하나라도 포함되는 모든 경우의 수를 구하는 프로그램을 작성하시오.
예를 들어 1을 입력했을 때 다음은 3이 하나라도 포함되어 있으므로 세어야하는 시각이다.
00시 00분 03초
00시 13분 30초

반면 다음은 3이 하나도 포함되어 있지 않으므로 세면 안 되는 시각이다.
00시 02분 55초
01시 27분 45초

입력 예시 5 -> 출력 예시 11475
'''
# 내 풀이

N = int(input())
result = 0
start = time()
for i in range(N+1):
    print(f'{i}까지 : {result}')
    if '3' in str(i):
        result += 3600 
    else:
        for m in range(60):
            if '3' in str(m):
                result += 60 # 5 + 10 -> 900
            else:
                for s in range(60):
                    if '3' in str(s):
                        result += 1


# 책 풀이

N = int(input())
count = 0
for i in range(N  + 1):
    print(f'{i}까지 {count}')
    for j in range(60):
        for k in range(60):
            if '3' in str(i) + str(j) + str(k):
                count += 1

# 책 풀이가 간결하지만 brute force 방법을 사용해서 시간은 약 3배정도 더 걸린다.

'''
3. 왕실의 나이트 
행복 왕국의 왕실 정원은 체스판과 같은 8 x 8 좌표 평면이다. 왕실 정원의 특정한 한 칸에 나이트가 서있다.
나이트는 이동할 때는 L자 형태로만 이동할 수 있으며 정원 밖으로는 나갈 수 없다.
나이트는 2가지 경우로 이동할 수 있다.
1. 수평으로 두 칸 이동한 뒤에 수직으로 한 칸 이동
2. 수직으로 두 칸 이동한 뒤에 수평으로 한 칸 이동

행의 위치는 1 ~ 8까지, 열의 위치는 a ~ h까지로 이동할 수 있는 경우의 수를 구하는 문제이다.
나이트가 위치한 곳의 좌표를 나타내는 두 문자로 구성된 문자열이 입력된다. 입력 문자는 a1처럼 열과 행으로 이뤄진다.
입력예시 a1 -> 출력예시 2
'''

from time import time

# 현재 나이트의 위치 입력받기
s = input()
row = int(s[1])
col = int(ord(s[0])) - int(ord('a')) + 1

# 나이트가 이동할 수 있는 방향 - dx, dy로 작성할 수도 있음
moves = [(-2,-1), (-2, 1), (2, -1), (2, 1), (-1, -2), (-1, 2) ,(1, -2), (1, 2)]

# 각 위치로 이동 가능한지 확인
result = 0
start = time()
for move in moves:
    # 이동하고자 하는 위치 확인
    next_row = row + move[0]
    next_col = col + move[1]

    # 이동 가능하면 카운트 증가
    if next_row >= 1 and next_row <= 8 and next_col >= 1 and next_col <= 8:
        result += 1

end = time()
print(f' 걸린 시간: {end-start}')
print(result)

'''
4. 문자열 재정렬 문제
알파벳 대문자와 숫자(0~9)로만 구성된 문자열이 입력으로 주어진다. 이때 모든 알파벳을 오름차순으로 정렬하여 이어 출력한 뒤에, 그 뒤에 모든 숫자를 더한 값을 이어 출력한다.
ex) K1KA5CB7 -> ABCKK13을 출력한다.
'''

## 내 풀이
s = list(input())
s.sort()
result_n = 0
result_s = ''
for i in s:
    try:
        result_n += int(i)
    except:
        result_s += str(i)

result = result_s + str(result_n)
print(result)


## 책 풀이
s = list(input())
start = time()
result = []
value = 0

# 문자를 하나씩 확인하며
for x in s:
    # 알파벳인 경우 결과 리스트에 삽입
    if x.isalpha():
        result.append(x)
    # 숫자는 따로 더하기
    else:
        value += int(x)

# 알파벳을 오름차순으로 정렬
result.sort()

# 숫자가 하나라도 존재하는 경우 가장 뒤에 삽입
if value != 0:
    result.append(str(value))

# 최종 결과 출력(리스트를 문자열로 변환하여 출력)
print(''.join(result))
